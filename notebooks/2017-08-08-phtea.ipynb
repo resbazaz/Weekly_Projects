{
 "cells": [
  {
   "cell_type": "markdown",
   "metadata": {},
   "source": [
    "## Notebook name: \n",
    "\n",
    "2017-08-08-phtea"
   ]
  },
  {
   "cell_type": "markdown",
   "metadata": {},
   "source": [
    "## Attendance:\n",
    "\n",
    "* **Ariella Gladstein** - @agladstein : population genetics, biology, high performance computing, programming\n",
    "* **Blake Joyce** - @bjoyce3 : biology, genetics, ecology, python, cyber infrastructure, docker\n",
    "* **Marnee Dearnman** - @MarneeDear : python, F#, functional programming, .NET\n",
    "* **Julian Pistorius** - @julianpistorius : python, data streaming with kafka, \n",
    "* **Heather Lent** - @hclent : natural language processing, machine learning, python, scala\n",
    "\n"
   ]
  },
  {
   "cell_type": "markdown",
   "metadata": {},
   "source": [
    "## Summary:\n",
    "\n",
    "\n",
    "Projects/topics:\n",
    "\n",
    "* **Project managment for Bisque**\n",
    "* **Binary, bit arrays, etc**\n",
    "* **Agriculture ODIN grammar**"
   ]
  },
  {
   "cell_type": "markdown",
   "metadata": {},
   "source": [
    "### Project managment for Bisque\n",
    " \n",
    " * Blake worked on project management for Bisque"
   ]
  },
  {
   "cell_type": "markdown",
   "metadata": {},
   "source": [
    "### Binary, bit arrays, etc\n",
    "\n",
    "* Ariella and Julian discussed approaches for Ariella's work using bit arrays"
   ]
  },
  {
   "cell_type": "markdown",
   "metadata": {},
   "source": [
    "### Agriculture ODIN grammar\n",
    "\n",
    "* Heather reviewed failing tests for her ODIN grammar"
   ]
  },
  {
   "cell_type": "markdown",
   "metadata": {},
   "source": [
    "## Notes:\n",
    "\n",
    "* \n"
   ]
  }
 ],
 "metadata": {
  "kernelspec": {
   "display_name": "Python 3",
   "language": "python",
   "name": "python3"
  },
  "language_info": {
   "codemirror_mode": {
    "name": "ipython",
    "version": 3
   },
   "file_extension": ".py",
   "mimetype": "text/x-python",
   "name": "python",
   "nbconvert_exporter": "python",
   "pygments_lexer": "ipython3",
   "version": "3.5.1"
  }
 },
 "nbformat": 4,
 "nbformat_minor": 0
}
