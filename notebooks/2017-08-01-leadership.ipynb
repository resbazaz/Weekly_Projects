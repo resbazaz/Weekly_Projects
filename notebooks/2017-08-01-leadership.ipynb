{
 "cells": [
  {
   "cell_type": "markdown",
   "metadata": {},
   "source": [
    "## Notebook name: \n",
    "\n",
    "2017-08-01-leadership\n",
    "\n",
    "\"Executive Board Planning and Strategy Meeting: Everyone’s welcome!\"\n",
    "\n"
   ]
  },
  {
   "cell_type": "markdown",
   "metadata": {},
   "source": [
    "## Attendance:\n",
    "\n",
    "* **Andreina Castillo** - @AndreinaCastillo : evolutionary biology, plasmodium, malaria, python \n",
    "* **Blake Joyce** - @bjoyce3 : biology, ecology, python, docker, cyber infrastructure \n",
    "* **Tyson Swetnam ** - @tyson-swetnam : GIS, geography, python, cyber infrastructure \n",
    "* **Julian Pistorius** - @julianpistorius : software engineering, python\n",
    "* **Jennifer Nichols ** - @jennytnichols : library science, \n",
    "* **Artin Majdi** - ??? : python, data science, big data \n",
    "* **Jon Gill** - @therealjtgill : machine learning, engineering, python, keras \n",
    "* **Heather Lent** - @hclent : natural language processing, machine learning, python, flask, scala \n"
   ]
  },
  {
   "cell_type": "markdown",
   "metadata": {},
   "source": [
    "## Summary:\n",
    "\n",
    "Discussed:\n",
    "\n",
    "* **Research Bazaar plans for next year**\n",
    "* **Better documentation of meetings**"
   ]
  },
  {
   "cell_type": "markdown",
   "metadata": {},
   "source": [
    "### Research Bazaar plans for next year\n",
    " \n",
    " * Start mobilizing at end of September\n",
    " * \n"
   ]
  },
  {
   "cell_type": "markdown",
   "metadata": {},
   "source": [
    "### Better documentation of meetings \n",
    "\n",
    "* Making a template to document each meeting"
   ]
  },
  {
   "cell_type": "markdown",
   "metadata": {},
   "source": [
    "## Notes:\n",
    "\n",
    "#### THINGS TO DO:\n",
    "\n",
    "* Make a new sign because we lost the one we had\n",
    "* Approach Simplybits and other organizations about sponsorship\n",
    "* Write letters for potential sponsors. Make sure to include: a) the success from ResBaz 2017, and b) Arizona’s capacity as one of the first ResBaz in the US. Letters should be ready to go out at the end of 2017 in order to better coincide with the fiscal year.\n",
    "* Continue conversations with Australia ResBaz organization. Discuss potential synchronicity with our own bazaar\n",
    "* Continue conversation with the University of Oklahoma ResBaz (they are hosting an event on October 5th-6th). Offer help and collaboration again.\n",
    "* Check the possibility of registering ResBaz as a university club\n",
    "* Advertise ResBaz at the next Software Carpentry event. Specifically:\n",
    "    * Ask Uwe to send email to his listservs. Email should be ideally sent before and after a SCW session in order to increase interest and attendance. Email could also be sent at the start of the semester.\n",
    "    * Capstone part of SCW can be used to later connect to attendants own research problems. Continuity can be provided in ResBaz weekly activities.\n",
    "    * Advertise ResBaz (weekly and large event) on August 23th during the welcome party to the UA campus.\n",
    "\n",
    "\n",
    "#### Connectivity Brainstorming:\n",
    "\n",
    "* Develop the value of Meetups as an opportunity to enhance connectivity and create a community.\n",
    "    * Get organizers from several other meetups together to discuss whole community events.\n",
    "    * Propose how two meetups could work together and collaborate. E.g. how functional programming could aid researchers or how Elixir could be used on parallelizing.\n",
    "    * Use the information from Meetup sign-in to get information from people strengths and needs (use it to pair up potential matches)\n",
    "    * Provide a way for members to Interact with each other and see each other profiles. Encourage people to put their interests, code, or/and interest as helpers or communicators.\n",
    "    * Publicize list of members:\n",
    "        * Include level of knowledge on different areas.\n",
    "        * Availability to help or help needed. This allows metrics for people to efficiently network and/or find the best people on the area\n",
    "        * Provide tokens for those who are helpful on the community. Two alternatives for token:\n",
    "            * Money; however, this might be problematic or not liked by members\n",
    "            * Let sponsorship decide what kind of tokens they are willing to give us.\n"
   ]
  }
 ],
 "metadata": {
  "kernelspec": {
   "display_name": "Python 3",
   "language": "python",
   "name": "python3"
  },
  "language_info": {
   "codemirror_mode": {
    "name": "ipython",
    "version": 3
   },
   "file_extension": ".py",
   "mimetype": "text/x-python",
   "name": "python",
   "nbconvert_exporter": "python",
   "pygments_lexer": "ipython3",
   "version": "3.5.1"
  }
 },
 "nbformat": 4,
 "nbformat_minor": 0
}
