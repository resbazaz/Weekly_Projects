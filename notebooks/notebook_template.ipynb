{
 "cells": [
  {
   "cell_type": "markdown",
   "metadata": {},
   "source": [
    "## Notebook name: \n",
    "\n",
    "year-month-day-event\n",
    "\n",
    "(Example: 2017-08-01-hackyhour)"
   ]
  },
  {
   "cell_type": "markdown",
   "metadata": {},
   "source": [
    "## Attendance:\n",
    "\n",
    "* **Name** - @githubhandle : area of interest/work\n"
   ]
  },
  {
   "cell_type": "markdown",
   "metadata": {},
   "source": [
    "## Summary:\n",
    "\n",
    "(A quick list of bullet points.) \n",
    "\n",
    "Discussed:\n",
    "\n",
    "* **Research Bazaar plans for next year**\n",
    "* **Better documentation of meetings**"
   ]
  },
  {
   "cell_type": "markdown",
   "metadata": {},
   "source": [
    "### Research Bazaar plans for next year\n",
    " \n",
    " * Details for this project that were discussed\n",
    " \n",
    " (TODO: How to make links that jump from Summary to the details?)"
   ]
  },
  {
   "cell_type": "markdown",
   "metadata": {},
   "source": [
    "### Better documentation of meetings \n",
    "\n",
    "* Making a template to document each meeting"
   ]
  },
  {
   "cell_type": "markdown",
   "metadata": {},
   "source": [
    "## Notes:\n",
    "\n",
    "* Put notes here if you want\n",
    "* TODO lists\n"
   ]
  }
 ],
 "metadata": {
  "kernelspec": {
   "display_name": "Python 3",
   "language": "python",
   "name": "python3"
  },
  "language_info": {
   "codemirror_mode": {
    "name": "ipython",
    "version": 3
   },
   "file_extension": ".py",
   "mimetype": "text/x-python",
   "name": "python",
   "nbconvert_exporter": "python",
   "pygments_lexer": "ipython3",
   "version": "3.5.1"
  }
 },
 "nbformat": 4,
 "nbformat_minor": 0
}
