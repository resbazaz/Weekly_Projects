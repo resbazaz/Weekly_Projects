{
 "cells": [
  {
   "cell_type": "markdown",
   "metadata": {},
   "source": [
    "## Notebook name: \n",
    "\n",
    "year-month-day-event\n",
    "\n",
    "(Example: 2017-08-01-hackyhour)"
   ]
  },
  {
   "cell_type": "markdown",
   "metadata": {},
   "source": [
    "## Attendance:\n",
    "\n",
    "* **Megan Willi** - @mkittles : speech & hearing sciences, speech tech, natural language processing\n",
    "* **Heather Lent** - @hclent : natural language processing, machine learning, flask \n",
    "* **Blake Joyce** - @bjoyce3 : cyber infrastructure, biology, ecology, python, plant metabolism\n",
    "* **Grant H** - @??? : web development, software, python\n"
   ]
  },
  {
   "cell_type": "markdown",
   "metadata": {},
   "source": [
    "## Summary:\n",
    "\n",
    "Projects worked on:\n",
    "\n",
    "* **HLT Wiki Project**\n",
    "* **Planning Software Carpentry for HLT**\n",
    "* **Cyverse Read The Docs Update**"
   ]
  },
  {
   "cell_type": "markdown",
   "metadata": {},
   "source": [
    "### HLT Wiki Project\n",
    " \n",
    " * Heather and Megan contributed to the wiki for HLT program \n",
    "\n",
    "https://github.com/arizona-hlt/hlt-resources/wiki"
   ]
  },
  {
   "cell_type": "markdown",
   "metadata": {},
   "source": [
    "### Planning Software Carpentry for HLT\n",
    "\n",
    "* Editing RSVP for workshop"
   ]
  },
  {
   "cell_type": "markdown",
   "metadata": {},
   "source": [
    "### Cyverse Read The Docs Update\n",
    "\n",
    "* Cyverse documentation is becoming \"Read The Docs\" \n",
    "* Updating \"ez\" documentation for Atmosphere installer to \"Read The Docs\"\n",
    "* Documenting the idiosyncracies of restructured text, \"Read The Docs\", & Cyverse \"Read The Docs\" templates. \n",
    "    * How to document the new documentation "
   ]
  },
  {
   "cell_type": "markdown",
   "metadata": {},
   "source": [
    "## Notes:\n",
    "\n",
    "* It rained\n",
    "* Beer\n"
   ]
  }
 ],
 "metadata": {
  "kernelspec": {
   "display_name": "Python 3",
   "language": "python",
   "name": "python3"
  },
  "language_info": {
   "codemirror_mode": {
    "name": "ipython",
    "version": 3
   },
   "file_extension": ".py",
   "mimetype": "text/x-python",
   "name": "python",
   "nbconvert_exporter": "python",
   "pygments_lexer": "ipython3",
   "version": "3.5.1"
  }
 },
 "nbformat": 4,
 "nbformat_minor": 0
}
